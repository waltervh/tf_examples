{
 "cells": [
  {
   "cell_type": "markdown",
   "metadata": {},
   "source": [
    "This notebook calculates and shows a classical two dimensional reaction diffusion model with two components. The evolution of the two components' concentration ($A$ and $B$) is determined by the following coupled PDE:"
   ]
  },
  {
   "cell_type": "markdown",
   "metadata": {},
   "source": [
    "\\begin{align}\n",
    "\\partial_t A &= D_A \\nabla^2 A - AB^2 + f(1-A) \\\\\n",
    "\\partial_t B &= D_B \\nabla^2 B + AB^2 - (k + f)B\n",
    "\\end{align}"
   ]
  },
  {
   "cell_type": "code",
   "execution_count": null,
   "metadata": {},
   "outputs": [],
   "source": [
    "%matplotlib notebook"
   ]
  },
  {
   "cell_type": "code",
   "execution_count": null,
   "metadata": {},
   "outputs": [],
   "source": [
    "# imports\n",
    "import numpy as np\n",
    "import tensorflow as tf\n",
    "import matplotlib.pyplot as plt\n",
    "import matplotlib.animation\n",
    "import time\n",
    "from tqdm import tqdm"
   ]
  },
  {
   "cell_type": "code",
   "execution_count": null,
   "metadata": {},
   "outputs": [],
   "source": [
    "# global parameters\n",
    "N_POINTS = 400\n",
    "SEED_START = 100\n",
    "SEED_SIZE = 5\n",
    "N_TIMES = 20000\n",
    "TIME_STEP = 1.0\n",
    "N_STEPS = 10\n",
    "DA = 1.0\n",
    "DB = 0.5\n",
    "f = 0.055\n",
    "k = 0.062"
   ]
  },
  {
   "cell_type": "code",
   "execution_count": null,
   "metadata": {},
   "outputs": [],
   "source": [
    "# initialize starting conditions\n",
    "a = np.ones((N_POINTS, N_POINTS))\n",
    "b = np.zeros((N_POINTS, N_POINTS))\n",
    "b[SEED_START:SEED_START+SEED_SIZE, SEED_START:SEED_START+SEED_SIZE] = 1.0\n",
    "evolution = [[a,b]]"
   ]
  },
  {
   "cell_type": "code",
   "execution_count": null,
   "metadata": {},
   "outputs": [],
   "source": [
    "def wrap_pad(tensor, size):\n",
    "    M1 = tf.concat([tensor[:,:,-size:,:], tensor, tensor[:,:,0:size,:]], 2)\n",
    "    M1 = tf.concat([M1[:,-size:,:,:], M1, M1[:,0:size,:,:]], 1)\n",
    "    return M1"
   ]
  },
  {
   "cell_type": "code",
   "execution_count": null,
   "metadata": {},
   "outputs": [],
   "source": [
    "# calculate for each time step\n",
    "with tf.Session() as sess:\n",
    "    # create input and constant nodes\n",
    "    kernel = tf.constant([[0.05, 0.2, 0.05], [0.2, -1, 0.2], [0.05, 0.2, 0.05]], dtype=tf.float32)\n",
    "    kernel = tf.reshape(kernel, [3, 3, 1, 1])\n",
    "    kernel_a = DA * TIME_STEP * kernel\n",
    "    kernel_b = DB * TIME_STEP * kernel\n",
    "    current_a = tf.placeholder(tf.float32, shape=[N_POINTS, N_POINTS])\n",
    "    current_b = tf.placeholder(tf.float32, shape=[N_POINTS, N_POINTS])\n",
    "    paddings = tf.constant([[0, 0], [1, 1], [1, 1], [0, 0]])\n",
    "    tf.global_variables_initializer().run()\n",
    "    \n",
    "    # create calculation nodes\n",
    "    input_a = tf.reshape(current_a, [1, N_POINTS, N_POINTS, 1])\n",
    "    input_b = tf.reshape(current_b, [1, N_POINTS, N_POINTS, 1])\n",
    "    diff_a = tf.nn.conv2d(wrap_pad(input_a, 1), kernel_a, strides=[1,1,1,1], padding='VALID')\n",
    "    diff_b = tf.nn.conv2d(wrap_pad(input_b, 1), kernel_b, strides=[1,1,1,1], padding='VALID')\n",
    "    react_a = TIME_STEP * (-input_a*input_b*input_b + f*(1.0 - input_a))\n",
    "    react_b = TIME_STEP * (input_a*input_b*input_b - (k+f)*input_b)\n",
    "    next_a = input_a + diff_a + react_a\n",
    "    next_b = input_b + diff_b + react_b\n",
    "    next_a = tf.reshape(next_a, [N_POINTS, N_POINTS])\n",
    "    next_b = tf.reshape(next_b, [N_POINTS, N_POINTS])\n",
    "\n",
    "    # calculate for each time step\n",
    "    for i in tqdm(range(N_TIMES)):\n",
    "        feed_dict = {current_a: a, current_b: b}\n",
    "        new_a, new_b = sess.run([next_a, next_b], feed_dict=feed_dict)\n",
    "\n",
    "        if (i+1)%N_STEPS==0:\n",
    "            evolution.append([new_a, new_b])\n",
    "        a = new_a\n",
    "        b = new_b"
   ]
  },
  {
   "cell_type": "code",
   "execution_count": null,
   "metadata": {},
   "outputs": [],
   "source": [
    "# cast evolution to a numpy array\n",
    "data = np.array(evolution)\n",
    "a_list = data[:,0,:,:]\n",
    "b_list = data[:,1,:,:]\n",
    "np.max(b_list[-1,:,:])"
   ]
  },
  {
   "cell_type": "code",
   "execution_count": null,
   "metadata": {},
   "outputs": [],
   "source": [
    "def make_binary(image):\n",
    "    return np.where(image < 0.2, 0.0, 1.0)\n",
    "\n",
    "def normalize(image):\n",
    "    return image / image.max()\n",
    "\n",
    "fig = plt.figure()\n",
    "ax = fig.gca()\n",
    "\n",
    "\n",
    "im = normalize(b_list[0,:,:])\n",
    "image = plt.imshow(im, animated=True, interpolation='bilinear', cmap='Blues')\n",
    "n_frames = b_list.shape[0] + 1\n",
    "\n",
    "def function_for_animation(frame_index):\n",
    "    im = normalize(b_list[frame_index,:,:])\n",
    "    image.set_data(im)\n",
    "    ax.set_title(str(frame_index))\n",
    "    return image,\n",
    "\n",
    "ani = matplotlib.animation.FuncAnimation(fig, function_for_animation, interval=10, frames=n_frames, repeat=False)"
   ]
  },
  {
   "cell_type": "code",
   "execution_count": null,
   "metadata": {},
   "outputs": [],
   "source": []
  }
 ],
 "metadata": {
  "kernelspec": {
   "display_name": "Python 3",
   "language": "python",
   "name": "python3"
  },
  "language_info": {
   "codemirror_mode": {
    "name": "ipython",
    "version": 3
   },
   "file_extension": ".py",
   "mimetype": "text/x-python",
   "name": "python",
   "nbconvert_exporter": "python",
   "pygments_lexer": "ipython3",
   "version": "3.7.1"
  }
 },
 "nbformat": 4,
 "nbformat_minor": 2
}
